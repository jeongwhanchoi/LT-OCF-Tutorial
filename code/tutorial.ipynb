{
 "cells": [
  {
   "cell_type": "markdown",
   "metadata": {},
   "source": [
    "Clone the tutorial repo"
   ]
  },
  {
   "cell_type": "code",
   "execution_count": 8,
   "metadata": {},
   "outputs": [
    {
     "name": "stdout",
     "output_type": "stream",
     "text": [
      ">>SEED: 2020\n",
      "\u001b[0;30;43mloading [../data/gowalla]\u001b[0m\n",
      "810128 interactions for training\n",
      "217242 interactions for testing\n",
      "gowalla Sparsity : 0.0008396216228570436\n",
      "gowalla is ready to go\n",
      "===========config================\n",
      "{'A_n_fold': 100,\n",
      " 'A_split': False,\n",
      " 'K': 4,\n",
      " 'bigdata': False,\n",
      " 'bpr_batch_size': 2048,\n",
      " 'decay': 0.0001,\n",
      " 'dropout': 0,\n",
      " 'dual_res': False,\n",
      " 'keep_prob': 0.6,\n",
      " 'latent_dim_rec': 64,\n",
      " 'learnable_time': False,\n",
      " 'lightGCN_n_layers': 3,\n",
      " 'lr': 0.001,\n",
      " 'lr_time': 0.0001,\n",
      " 'multicore': 0,\n",
      " 'pretrain': 0,\n",
      " 'pretrained_file_name': 'ltocf',\n",
      " 'solver': 'euler',\n",
      " 'test_u_batch_size': 100,\n",
      " 'time_split': 4}\n",
      "cores for test: 32\n",
      "comment: lt-ncf\n",
      "tensorboard: 1\n",
      "LOAD: 0\n",
      "Weight path: ./checkpoints\n",
      "Test Topks: [20]\n",
      "using bpr loss\n",
      "adjoint method: False\n",
      "===========end===================\n"
     ]
    }
   ],
   "source": [
    "import world\n",
    "import utils\n",
    "from world import cprint\n",
    "import torch\n",
    "import numpy as np\n",
    "from tensorboardX import SummaryWriter\n",
    "import time\n",
    "import Procedure\n",
    "from os.path import join\n",
    "# ==============================\n",
    "utils.set_seed(world.seed)\n",
    "print(\">>SEED:\", world.seed)\n",
    "# ==============================\n",
    "import register\n",
    "from register import dataset\n",
    "from torch import nn"
   ]
  },
  {
   "cell_type": "code",
   "execution_count": 9,
   "metadata": {},
   "outputs": [
    {
     "name": "stdout",
     "output_type": "stream",
     "text": [
      "\u001b[0;30;43muse NORMAL distribution initilizer\u001b[0m\n",
      "loading adjacency matrix\n",
      "successfully loaded...\n",
      "don't split the matrix\n",
      "lgn is already to go(dropout:0)\n",
      "load and save to /home/bigdyl/jeongwhanchoi/tutorial21/LT-OCF/code/pretrain/ltocf\n"
     ]
    }
   ],
   "source": [
    "Recmodel = register.MODELS[world.model_name](world.config, dataset)\n",
    "if world.parallel == True:\n",
    "    Recmodel = nn.DataParallel(Recmodel, device_ids=[0, 1])\n",
    "Recmodel = Recmodel.to(world.device)\n",
    "if world.config['learnable_time'] == False:\n",
    "    bpr = utils.BPRLoss(Recmodel, world.config)\n",
    "elif world.config['learnable_time'] == True:\n",
    "    bpr_t = utils.BPRLossT(Recmodel, world.config)\n",
    "\n",
    "weight_file = utils.getFileName()\n",
    "pretrained_weight_file = utils.getPretrainedFileName(world.config['pretrained_file_name'])\n",
    "print(f\"load and save to {pretrained_weight_file}\")\n",
    "if world.LOAD:\n",
    "    try:\n",
    "        Recmodel.load_state_dict(torch.load(pretrained_weight_file,map_location=torch.device('cpu')))\n",
    "        world.cprint(f\"loaded model weights from {pretrained_weight_file}\")\n",
    "    except FileNotFoundError:\n",
    "        print(f\"{pretrained_weight_file} not exists, start from beginning\")\n",
    "Neg_k = 1\n",
    "\n",
    "save_name = time.strftime(\"%m-%d-%Hh%Mm-\") + \"-\" + world.dataset + \"-\" + world.model_name + \"-\" + world.config['solver'] + \"-adjoint_\" + str(world.adjoint) + \"-learnable_t_\" + str(world.config['learnable_time']) + \"-dual_res_\" + str(world.config['dual_res']) + \"-lr\" + str(world.config['lr']) + \"-lr_time\" + str(world.config['lr_time']) + \"-decay\" + str(world.config['decay'])+ \"-\" + world.comment\n",
    "\n",
    "# init tensorboard\n",
    "if world.tensorboard:\n",
    "    w : SummaryWriter = SummaryWriter(join(world.BOARD_PATH, save_name))\n",
    "else:\n",
    "    w = None\n",
    "    world.cprint(\"not enable tensorflowboard\")\n"
   ]
  },
  {
   "cell_type": "code",
   "execution_count": 12,
   "metadata": {},
   "outputs": [
    {
     "name": "stdout",
     "output_type": "stream",
     "text": [
      "\u001b[0;30;43m[TEST]\u001b[0m\n",
      "Inference time: 6.3403s\n",
      "{'precision': array([0.00020932]), 'recall': array([0.00060648]), 'ndcg': array([0.00044858])}\n",
      "Train time: 11.0391s\n",
      "EPOCH[1/1000] loss0.492-|Sample:0.08|\n",
      "Train time: 11.0365s\n",
      "EPOCH[2/1000] loss0.229-|Sample:0.08|\n",
      "Train time: 11.0462s\n",
      "EPOCH[3/1000] loss0.168-|Sample:0.09|\n",
      "Train time: 11.0316s\n",
      "EPOCH[4/1000] loss0.137-|Sample:0.09|\n",
      "Train time: 11.0465s\n",
      "EPOCH[5/1000] loss0.120-|Sample:0.09|\n",
      "Train time: 11.0574s\n",
      "EPOCH[6/1000] loss0.107-|Sample:0.09|\n",
      "Train time: 11.0497s\n",
      "EPOCH[7/1000] loss0.098-|Sample:0.09|\n",
      "Train time: 11.0687s\n",
      "EPOCH[8/1000] loss0.091-|Sample:0.09|\n",
      "Train time: 11.0566s\n",
      "EPOCH[9/1000] loss0.086-|Sample:0.09|\n",
      "Train time: 11.0879s\n",
      "EPOCH[10/1000] loss0.082-|Sample:0.09|\n",
      "\u001b[0;30;43m[TEST]\u001b[0m\n",
      "Inference time: 5.7959s\n",
      "{'precision': array([0.03506598]), 'recall': array([0.11539871]), 'ndcg': array([0.09609495])}\n",
      "Train time: 11.1050s\n",
      "EPOCH[11/1000] loss0.078-|Sample:0.08|\n",
      "Train time: 11.1075s\n",
      "EPOCH[12/1000] loss0.075-|Sample:0.09|\n",
      "Train time: 11.1397s\n",
      "EPOCH[13/1000] loss0.072-|Sample:0.09|\n",
      "Train time: 11.1786s\n",
      "EPOCH[14/1000] loss0.070-|Sample:0.09|\n",
      "Train time: 11.2075s\n",
      "EPOCH[15/1000] loss0.067-|Sample:0.09|\n",
      "Train time: 11.2194s\n",
      "EPOCH[16/1000] loss0.065-|Sample:0.09|\n",
      "Train time: 11.2040s\n",
      "EPOCH[17/1000] loss0.063-|Sample:0.09|\n",
      "Train time: 11.2181s\n",
      "EPOCH[18/1000] loss0.062-|Sample:0.09|\n",
      "Train time: 11.2246s\n",
      "EPOCH[19/1000] loss0.061-|Sample:0.09|\n",
      "Train time: 11.1920s\n",
      "EPOCH[20/1000] loss0.059-|Sample:0.09|\n",
      "\u001b[0;30;43m[TEST]\u001b[0m\n",
      "Inference time: 5.7902s\n",
      "{'precision': array([0.03804341]), 'recall': array([0.12635963]), 'ndcg': array([0.10384908])}\n",
      "Train time: 11.1215s\n",
      "EPOCH[21/1000] loss0.058-|Sample:0.08|\n",
      "Train time: 11.1572s\n",
      "EPOCH[22/1000] loss0.056-|Sample:0.09|\n",
      "Train time: 11.1950s\n",
      "EPOCH[23/1000] loss0.055-|Sample:0.09|\n",
      "Train time: 11.1922s\n",
      "EPOCH[24/1000] loss0.054-|Sample:0.09|\n",
      "Train time: 11.1978s\n",
      "EPOCH[25/1000] loss0.053-|Sample:0.09|\n",
      "Train time: 11.2068s\n",
      "EPOCH[26/1000] loss0.051-|Sample:0.09|\n",
      "Train time: 11.2021s\n",
      "EPOCH[27/1000] loss0.051-|Sample:0.09|\n",
      "Train time: 11.1932s\n",
      "EPOCH[28/1000] loss0.050-|Sample:0.09|\n",
      "Train time: 11.1793s\n",
      "EPOCH[29/1000] loss0.049-|Sample:0.09|\n",
      "Train time: 11.2082s\n",
      "EPOCH[30/1000] loss0.049-|Sample:0.09|\n",
      "\u001b[0;30;43m[TEST]\u001b[0m\n"
     ]
    },
    {
     "ename": "KeyboardInterrupt",
     "evalue": "",
     "output_type": "error",
     "traceback": [
      "\u001b[0;31m---------------------------------------------------------------------------\u001b[0m",
      "\u001b[0;31mKeyboardInterrupt\u001b[0m                         Traceback (most recent call last)",
      "\u001b[0;32m/tmp/ipykernel_45600/160973371.py\u001b[0m in \u001b[0;36m<module>\u001b[0;34m\u001b[0m\n\u001b[1;32m      3\u001b[0m     \u001b[0;32mif\u001b[0m \u001b[0mepoch\u001b[0m \u001b[0;34m%\u001b[0m\u001b[0;36m10\u001b[0m \u001b[0;34m==\u001b[0m \u001b[0;36m0\u001b[0m\u001b[0;34m:\u001b[0m\u001b[0;34m\u001b[0m\u001b[0;34m\u001b[0m\u001b[0m\n\u001b[1;32m      4\u001b[0m         \u001b[0mcprint\u001b[0m\u001b[0;34m(\u001b[0m\u001b[0;34m\"[TEST]\"\u001b[0m\u001b[0;34m)\u001b[0m\u001b[0;34m\u001b[0m\u001b[0;34m\u001b[0m\u001b[0m\n\u001b[0;32m----> 5\u001b[0;31m         \u001b[0mProcedure\u001b[0m\u001b[0;34m.\u001b[0m\u001b[0mTest\u001b[0m\u001b[0;34m(\u001b[0m\u001b[0mdataset\u001b[0m\u001b[0;34m,\u001b[0m \u001b[0mRecmodel\u001b[0m\u001b[0;34m,\u001b[0m \u001b[0mepoch\u001b[0m\u001b[0;34m,\u001b[0m \u001b[0mw\u001b[0m\u001b[0;34m,\u001b[0m \u001b[0mworld\u001b[0m\u001b[0;34m.\u001b[0m\u001b[0mconfig\u001b[0m\u001b[0;34m[\u001b[0m\u001b[0;34m'multicore'\u001b[0m\u001b[0;34m]\u001b[0m\u001b[0;34m)\u001b[0m\u001b[0;34m\u001b[0m\u001b[0;34m\u001b[0m\u001b[0m\n\u001b[0m\u001b[1;32m      6\u001b[0m \u001b[0;34m\u001b[0m\u001b[0m\n\u001b[1;32m      7\u001b[0m     \u001b[0;32mif\u001b[0m \u001b[0mworld\u001b[0m\u001b[0;34m.\u001b[0m\u001b[0mmodel_name\u001b[0m \u001b[0;34m==\u001b[0m \u001b[0;34m'ltocf'\u001b[0m\u001b[0;34m:\u001b[0m\u001b[0;34m\u001b[0m\u001b[0;34m\u001b[0m\u001b[0m\n",
      "\u001b[0;32m~/jeongwhanchoi/tutorial21/LT-OCF/code/Procedure.py\u001b[0m in \u001b[0;36mTest\u001b[0;34m(dataset, Recmodel, epoch, w, multicore)\u001b[0m\n\u001b[1;32m    305\u001b[0m         \u001b[0mt\u001b[0m \u001b[0;34m=\u001b[0m \u001b[0mperf_counter\u001b[0m\u001b[0;34m(\u001b[0m\u001b[0;34m)\u001b[0m\u001b[0;34m\u001b[0m\u001b[0;34m\u001b[0m\u001b[0m\n\u001b[1;32m    306\u001b[0m         \u001b[0;32mfor\u001b[0m \u001b[0mbatch_users\u001b[0m \u001b[0;32min\u001b[0m \u001b[0mutils\u001b[0m\u001b[0;34m.\u001b[0m\u001b[0mminibatch\u001b[0m\u001b[0;34m(\u001b[0m\u001b[0musers\u001b[0m\u001b[0;34m,\u001b[0m \u001b[0mbatch_size\u001b[0m\u001b[0;34m=\u001b[0m\u001b[0mu_batch_size\u001b[0m\u001b[0;34m)\u001b[0m\u001b[0;34m:\u001b[0m\u001b[0;34m\u001b[0m\u001b[0;34m\u001b[0m\u001b[0m\n\u001b[0;32m--> 307\u001b[0;31m             \u001b[0mallPos\u001b[0m \u001b[0;34m=\u001b[0m \u001b[0mdataset\u001b[0m\u001b[0;34m.\u001b[0m\u001b[0mgetUserPosItems\u001b[0m\u001b[0;34m(\u001b[0m\u001b[0mbatch_users\u001b[0m\u001b[0;34m)\u001b[0m\u001b[0;34m\u001b[0m\u001b[0;34m\u001b[0m\u001b[0m\n\u001b[0m\u001b[1;32m    308\u001b[0m             \u001b[0mgroundTrue\u001b[0m \u001b[0;34m=\u001b[0m \u001b[0;34m[\u001b[0m\u001b[0mtestDict\u001b[0m\u001b[0;34m[\u001b[0m\u001b[0mu\u001b[0m\u001b[0;34m]\u001b[0m \u001b[0;32mfor\u001b[0m \u001b[0mu\u001b[0m \u001b[0;32min\u001b[0m \u001b[0mbatch_users\u001b[0m\u001b[0;34m]\u001b[0m\u001b[0;34m\u001b[0m\u001b[0;34m\u001b[0m\u001b[0m\n\u001b[1;32m    309\u001b[0m             \u001b[0mbatch_users_gpu\u001b[0m \u001b[0;34m=\u001b[0m \u001b[0mtorch\u001b[0m\u001b[0;34m.\u001b[0m\u001b[0mTensor\u001b[0m\u001b[0;34m(\u001b[0m\u001b[0mbatch_users\u001b[0m\u001b[0;34m)\u001b[0m\u001b[0;34m.\u001b[0m\u001b[0mlong\u001b[0m\u001b[0;34m(\u001b[0m\u001b[0;34m)\u001b[0m\u001b[0;34m\u001b[0m\u001b[0;34m\u001b[0m\u001b[0m\n",
      "\u001b[0;32m~/jeongwhanchoi/tutorial21/LT-OCF/code/dataloader.py\u001b[0m in \u001b[0;36mgetUserPosItems\u001b[0;34m(self, users)\u001b[0m\n\u001b[1;32m    391\u001b[0m         \u001b[0mposItems\u001b[0m \u001b[0;34m=\u001b[0m \u001b[0;34m[\u001b[0m\u001b[0;34m]\u001b[0m\u001b[0;34m\u001b[0m\u001b[0;34m\u001b[0m\u001b[0m\n\u001b[1;32m    392\u001b[0m         \u001b[0;32mfor\u001b[0m \u001b[0muser\u001b[0m \u001b[0;32min\u001b[0m \u001b[0musers\u001b[0m\u001b[0;34m:\u001b[0m\u001b[0;34m\u001b[0m\u001b[0;34m\u001b[0m\u001b[0m\n\u001b[0;32m--> 393\u001b[0;31m             \u001b[0mposItems\u001b[0m\u001b[0;34m.\u001b[0m\u001b[0mappend\u001b[0m\u001b[0;34m(\u001b[0m\u001b[0mself\u001b[0m\u001b[0;34m.\u001b[0m\u001b[0mUserItemNet\u001b[0m\u001b[0;34m[\u001b[0m\u001b[0muser\u001b[0m\u001b[0;34m]\u001b[0m\u001b[0;34m.\u001b[0m\u001b[0mnonzero\u001b[0m\u001b[0;34m(\u001b[0m\u001b[0;34m)\u001b[0m\u001b[0;34m[\u001b[0m\u001b[0;36m1\u001b[0m\u001b[0;34m]\u001b[0m\u001b[0;34m)\u001b[0m\u001b[0;34m\u001b[0m\u001b[0;34m\u001b[0m\u001b[0m\n\u001b[0m\u001b[1;32m    394\u001b[0m         \u001b[0;32mreturn\u001b[0m \u001b[0mposItems\u001b[0m\u001b[0;34m\u001b[0m\u001b[0;34m\u001b[0m\u001b[0m\n\u001b[1;32m    395\u001b[0m \u001b[0;34m\u001b[0m\u001b[0m\n",
      "\u001b[0;32m~/anaconda3/envs/cuk/lib/python3.9/site-packages/scipy/sparse/_index.py\u001b[0m in \u001b[0;36m__getitem__\u001b[0;34m(self, key)\u001b[0m\n\u001b[1;32m     37\u001b[0m                 \u001b[0;32mreturn\u001b[0m \u001b[0mself\u001b[0m\u001b[0;34m.\u001b[0m\u001b[0m_get_intXint\u001b[0m\u001b[0;34m(\u001b[0m\u001b[0mrow\u001b[0m\u001b[0;34m,\u001b[0m \u001b[0mcol\u001b[0m\u001b[0;34m)\u001b[0m\u001b[0;34m\u001b[0m\u001b[0;34m\u001b[0m\u001b[0m\n\u001b[1;32m     38\u001b[0m             \u001b[0;32melif\u001b[0m \u001b[0misinstance\u001b[0m\u001b[0;34m(\u001b[0m\u001b[0mcol\u001b[0m\u001b[0;34m,\u001b[0m \u001b[0mslice\u001b[0m\u001b[0;34m)\u001b[0m\u001b[0;34m:\u001b[0m\u001b[0;34m\u001b[0m\u001b[0;34m\u001b[0m\u001b[0m\n\u001b[0;32m---> 39\u001b[0;31m                 \u001b[0;32mreturn\u001b[0m \u001b[0mself\u001b[0m\u001b[0;34m.\u001b[0m\u001b[0m_get_intXslice\u001b[0m\u001b[0;34m(\u001b[0m\u001b[0mrow\u001b[0m\u001b[0;34m,\u001b[0m \u001b[0mcol\u001b[0m\u001b[0;34m)\u001b[0m\u001b[0;34m\u001b[0m\u001b[0;34m\u001b[0m\u001b[0m\n\u001b[0m\u001b[1;32m     40\u001b[0m             \u001b[0;32melif\u001b[0m \u001b[0mcol\u001b[0m\u001b[0;34m.\u001b[0m\u001b[0mndim\u001b[0m \u001b[0;34m==\u001b[0m \u001b[0;36m1\u001b[0m\u001b[0;34m:\u001b[0m\u001b[0;34m\u001b[0m\u001b[0;34m\u001b[0m\u001b[0m\n\u001b[1;32m     41\u001b[0m                 \u001b[0;32mreturn\u001b[0m \u001b[0mself\u001b[0m\u001b[0;34m.\u001b[0m\u001b[0m_get_intXarray\u001b[0m\u001b[0;34m(\u001b[0m\u001b[0mrow\u001b[0m\u001b[0;34m,\u001b[0m \u001b[0mcol\u001b[0m\u001b[0;34m)\u001b[0m\u001b[0;34m\u001b[0m\u001b[0;34m\u001b[0m\u001b[0m\n",
      "\u001b[0;32m~/anaconda3/envs/cuk/lib/python3.9/site-packages/scipy/sparse/csr.py\u001b[0m in \u001b[0;36m_get_intXslice\u001b[0;34m(self, row, col)\u001b[0m\n\u001b[1;32m    284\u001b[0m     \u001b[0;32mdef\u001b[0m \u001b[0m_get_intXslice\u001b[0m\u001b[0;34m(\u001b[0m\u001b[0mself\u001b[0m\u001b[0;34m,\u001b[0m \u001b[0mrow\u001b[0m\u001b[0;34m,\u001b[0m \u001b[0mcol\u001b[0m\u001b[0;34m)\u001b[0m\u001b[0;34m:\u001b[0m\u001b[0;34m\u001b[0m\u001b[0;34m\u001b[0m\u001b[0m\n\u001b[1;32m    285\u001b[0m         \u001b[0;32mif\u001b[0m \u001b[0mcol\u001b[0m\u001b[0;34m.\u001b[0m\u001b[0mstep\u001b[0m \u001b[0;32min\u001b[0m \u001b[0;34m(\u001b[0m\u001b[0;36m1\u001b[0m\u001b[0;34m,\u001b[0m \u001b[0;32mNone\u001b[0m\u001b[0;34m)\u001b[0m\u001b[0;34m:\u001b[0m\u001b[0;34m\u001b[0m\u001b[0;34m\u001b[0m\u001b[0m\n\u001b[0;32m--> 286\u001b[0;31m             \u001b[0;32mreturn\u001b[0m \u001b[0mself\u001b[0m\u001b[0;34m.\u001b[0m\u001b[0m_get_submatrix\u001b[0m\u001b[0;34m(\u001b[0m\u001b[0mrow\u001b[0m\u001b[0;34m,\u001b[0m \u001b[0mcol\u001b[0m\u001b[0;34m,\u001b[0m \u001b[0mcopy\u001b[0m\u001b[0;34m=\u001b[0m\u001b[0;32mTrue\u001b[0m\u001b[0;34m)\u001b[0m\u001b[0;34m\u001b[0m\u001b[0;34m\u001b[0m\u001b[0m\n\u001b[0m\u001b[1;32m    287\u001b[0m         \u001b[0;31m# TODO: uncomment this once it's faster:\u001b[0m\u001b[0;34m\u001b[0m\u001b[0;34m\u001b[0m\u001b[0;34m\u001b[0m\u001b[0m\n\u001b[1;32m    288\u001b[0m         \u001b[0;31m# return self.getrow(row)._minor_slice(col)\u001b[0m\u001b[0;34m\u001b[0m\u001b[0;34m\u001b[0m\u001b[0;34m\u001b[0m\u001b[0m\n",
      "\u001b[0;32m~/anaconda3/envs/cuk/lib/python3.9/site-packages/scipy/sparse/compressed.py\u001b[0m in \u001b[0;36m_get_submatrix\u001b[0;34m(self, major, minor, copy)\u001b[0m\n\u001b[1;32m    793\u001b[0m \u001b[0;34m\u001b[0m\u001b[0m\n\u001b[1;32m    794\u001b[0m         \u001b[0mshape\u001b[0m \u001b[0;34m=\u001b[0m \u001b[0mself\u001b[0m\u001b[0;34m.\u001b[0m\u001b[0m_swap\u001b[0m\u001b[0;34m(\u001b[0m\u001b[0;34m(\u001b[0m\u001b[0mi1\u001b[0m \u001b[0;34m-\u001b[0m \u001b[0mi0\u001b[0m\u001b[0;34m,\u001b[0m \u001b[0mj1\u001b[0m \u001b[0;34m-\u001b[0m \u001b[0mj0\u001b[0m\u001b[0;34m)\u001b[0m\u001b[0;34m)\u001b[0m\u001b[0;34m\u001b[0m\u001b[0;34m\u001b[0m\u001b[0m\n\u001b[0;32m--> 795\u001b[0;31m         return self.__class__((data, indices, indptr), shape=shape,\n\u001b[0m\u001b[1;32m    796\u001b[0m                               dtype=self.dtype, copy=False)\n\u001b[1;32m    797\u001b[0m \u001b[0;34m\u001b[0m\u001b[0m\n",
      "\u001b[0;32m~/anaconda3/envs/cuk/lib/python3.9/site-packages/scipy/sparse/compressed.py\u001b[0m in \u001b[0;36m__init__\u001b[0;34m(self, arg1, shape, dtype, copy)\u001b[0m\n\u001b[1;32m    104\u001b[0m             \u001b[0mself\u001b[0m\u001b[0;34m.\u001b[0m\u001b[0mdata\u001b[0m \u001b[0;34m=\u001b[0m \u001b[0mself\u001b[0m\u001b[0;34m.\u001b[0m\u001b[0mdata\u001b[0m\u001b[0;34m.\u001b[0m\u001b[0mastype\u001b[0m\u001b[0;34m(\u001b[0m\u001b[0mdtype\u001b[0m\u001b[0;34m,\u001b[0m \u001b[0mcopy\u001b[0m\u001b[0;34m=\u001b[0m\u001b[0;32mFalse\u001b[0m\u001b[0;34m)\u001b[0m\u001b[0;34m\u001b[0m\u001b[0;34m\u001b[0m\u001b[0m\n\u001b[1;32m    105\u001b[0m \u001b[0;34m\u001b[0m\u001b[0m\n\u001b[0;32m--> 106\u001b[0;31m         \u001b[0mself\u001b[0m\u001b[0;34m.\u001b[0m\u001b[0mcheck_format\u001b[0m\u001b[0;34m(\u001b[0m\u001b[0mfull_check\u001b[0m\u001b[0;34m=\u001b[0m\u001b[0;32mFalse\u001b[0m\u001b[0;34m)\u001b[0m\u001b[0;34m\u001b[0m\u001b[0;34m\u001b[0m\u001b[0m\n\u001b[0m\u001b[1;32m    107\u001b[0m \u001b[0;34m\u001b[0m\u001b[0m\n\u001b[1;32m    108\u001b[0m     \u001b[0;32mdef\u001b[0m \u001b[0mgetnnz\u001b[0m\u001b[0;34m(\u001b[0m\u001b[0mself\u001b[0m\u001b[0;34m,\u001b[0m \u001b[0maxis\u001b[0m\u001b[0;34m=\u001b[0m\u001b[0;32mNone\u001b[0m\u001b[0;34m)\u001b[0m\u001b[0;34m:\u001b[0m\u001b[0;34m\u001b[0m\u001b[0;34m\u001b[0m\u001b[0m\n",
      "\u001b[0;32m~/anaconda3/envs/cuk/lib/python3.9/site-packages/scipy/sparse/compressed.py\u001b[0m in \u001b[0;36mcheck_format\u001b[0;34m(self, full_check)\u001b[0m\n\u001b[1;32m    169\u001b[0m             raise ValueError(\"index pointer size ({}) should be ({})\"\n\u001b[1;32m    170\u001b[0m                              \"\".format(len(self.indptr), major_dim + 1))\n\u001b[0;32m--> 171\u001b[0;31m         \u001b[0;32mif\u001b[0m \u001b[0;34m(\u001b[0m\u001b[0mself\u001b[0m\u001b[0;34m.\u001b[0m\u001b[0mindptr\u001b[0m\u001b[0;34m[\u001b[0m\u001b[0;36m0\u001b[0m\u001b[0;34m]\u001b[0m \u001b[0;34m!=\u001b[0m \u001b[0;36m0\u001b[0m\u001b[0;34m)\u001b[0m\u001b[0;34m:\u001b[0m\u001b[0;34m\u001b[0m\u001b[0;34m\u001b[0m\u001b[0m\n\u001b[0m\u001b[1;32m    172\u001b[0m             \u001b[0;32mraise\u001b[0m \u001b[0mValueError\u001b[0m\u001b[0;34m(\u001b[0m\u001b[0;34m\"index pointer should start with 0\"\u001b[0m\u001b[0;34m)\u001b[0m\u001b[0;34m\u001b[0m\u001b[0;34m\u001b[0m\u001b[0m\n\u001b[1;32m    173\u001b[0m \u001b[0;34m\u001b[0m\u001b[0m\n",
      "\u001b[0;31mKeyboardInterrupt\u001b[0m: "
     ]
    }
   ],
   "source": [
    "for epoch in range(world.TRAIN_epochs+1):\n",
    "    start = time.time()\n",
    "    if epoch %10 == 0:\n",
    "        cprint(\"[TEST]\")\n",
    "        Procedure.Test(dataset, Recmodel, epoch, w, world.config['multicore'])\n",
    "\n",
    "    if world.model_name == 'ltocf':\n",
    "        if world.config['learnable_time'] == False:\n",
    "            output_information = Procedure.BPR_train_original(dataset, Recmodel, bpr, epoch, neg_k=Neg_k,w=w)\n",
    "            print(f'EPOCH[{epoch+1}/{world.TRAIN_epochs}] {output_information}')\n",
    "        else:\n",
    "            output_information, times_list= Procedure.BPR_train_ode(dataset, Recmodel, bpr_t, epoch, neg_k=Neg_k,w=w)\n",
    "            print(f'EPOCH[{epoch+1}/{world.TRAIN_epochs}] {output_information}')\n",
    "            print(times_list)"
   ]
  },
  {
   "cell_type": "code",
   "execution_count": null,
   "metadata": {},
   "outputs": [],
   "source": []
  }
 ],
 "metadata": {
  "interpreter": {
   "hash": "824168a5fe9767d43391d41bb14dd5b83ef6ed381351550bac26bd23e48778cd"
  },
  "kernelspec": {
   "display_name": "Python 3.9.6 64-bit ('cuk': conda)",
   "name": "python3"
  },
  "language_info": {
   "codemirror_mode": {
    "name": "ipython",
    "version": 3
   },
   "file_extension": ".py",
   "mimetype": "text/x-python",
   "name": "python",
   "nbconvert_exporter": "python",
   "pygments_lexer": "ipython3",
   "version": "3.9.6"
  },
  "orig_nbformat": 4
 },
 "nbformat": 4,
 "nbformat_minor": 2
}
